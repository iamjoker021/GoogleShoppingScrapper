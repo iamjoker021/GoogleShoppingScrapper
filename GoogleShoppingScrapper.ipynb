{
 "cells": [
  {
   "cell_type": "markdown",
   "id": "0c61e50e",
   "metadata": {},
   "source": [
    "## Google Shooping Scratcher"
   ]
  },
  {
   "cell_type": "code",
   "execution_count": 46,
   "id": "75669404",
   "metadata": {},
   "outputs": [],
   "source": [
    "import requests, json\n",
    "from bs4 import BeautifulSoup"
   ]
  },
  {
   "cell_type": "code",
   "execution_count": 47,
   "id": "68fb83c5",
   "metadata": {},
   "outputs": [],
   "source": [
    "domain = \"https://www.google.es\"\n",
    "search_url = f\"{domain}/search\"\n",
    "\n",
    "headers = {\n",
    "    \"User-Agent\":\n",
    "    \"Mozilla/5.0 (Windows NT 10.0; Win64; x64) AppleWebKit/537.36 (KHTML, like Gecko) Chrome/70.0.3538.102 Safari/537.36 Edge/18.19582\"\n",
    "}\n",
    "\n",
    "params = {\"q\": \"nike\", \n",
    "          \"hl\": \"es\", \n",
    "          'gl': 'es', \n",
    "          'tbm': 'shop',\n",
    "         }\n",
    "\n",
    "response = requests.get(search_url,\n",
    "                        params=params,\n",
    "                        headers=headers)"
   ]
  },
  {
   "cell_type": "code",
   "execution_count": 48,
   "id": "998197f8",
   "metadata": {},
   "outputs": [],
   "source": [
    "soup = BeautifulSoup(response.text)\n",
    "# list with two dict() combined\n",
    "shopping_data = []\n",
    "inline_results_dict = {}\n",
    "shopping_results_dict = {}"
   ]
  },
  {
   "cell_type": "code",
   "execution_count": 55,
   "id": "a695a5fc",
   "metadata": {},
   "outputs": [
    {
     "data": {
      "text/plain": [
       "[]"
      ]
     },
     "execution_count": 55,
     "metadata": {},
     "output_type": "execute_result"
    }
   ],
   "source": [
    "soup.select('.sh-dgr__content')"
   ]
  },
  {
   "cell_type": "code",
   "execution_count": 59,
   "id": "5bc33e34",
   "metadata": {},
   "outputs": [],
   "source": [
    "for inline_result in soup.select('.sh-np__click-target'):\n",
    "    inline_shopping_title = inline_result.select_one('.sh-np__product-title').text\n",
    "    inline_shopping_link = f\"{domain}{inline_result['href']}\"\n",
    "    inline_shopping_price = inline_result.select_one('b').text\n",
    "    inline_shopping_source = inline_result.select_one('.E5ocAb').text.strip()\n",
    "    image = inline_result.find('img')['src']\n",
    "\n",
    "    inline_results_dict.update({\n",
    "        'inline_shopping_results': [{\n",
    "            'image': image,\n",
    "            'title': inline_shopping_title,\n",
    "            'link': inline_shopping_link,\n",
    "            'price': inline_shopping_price,\n",
    "            'source': inline_shopping_source,\n",
    "        }]\n",
    "    })\n",
    "\n",
    "    shopping_data.append(dict(inline_results_dict))"
   ]
  },
  {
   "cell_type": "code",
   "execution_count": 61,
   "id": "19d8784e",
   "metadata": {},
   "outputs": [],
   "source": [
    "for shopping_result in soup.select('.sh-dgr__content'):\n",
    "    print(\"yes\")\n",
    "    title = shopping_result.select_one('.Lq5OHe.eaGTj h4').text\n",
    "    product_link = f\"{domain}{shopping_result.select_one('.Lq5OHe.eaGTj')['href']}\"\n",
    "    source = shopping_result.select_one('.IuHnof').text\n",
    "    price = shopping_result.select_one('span.kHxwFf span').text\n",
    "    image = shopping_result.find('img')['src']\n",
    "\n",
    "    try:\n",
    "        rating = shopping_result.select_one('.Rsc7Yb').text\n",
    "    except:\n",
    "        rating = None\n",
    "\n",
    "    try:\n",
    "        reviews = shopping_result.select_one('.Rsc7Yb').next_sibling.next_sibling\n",
    "    except:\n",
    "        reviews = None\n",
    "\n",
    "    try:\n",
    "        delivery = shopping_result.select_one('.vEjMR').text\n",
    "    except:\n",
    "        delivery = None\n",
    "\n",
    "\n",
    "\n",
    "    shopping_results_dict.update({\n",
    "        'shopping_results': [{\n",
    "            'image': image,\n",
    "            'title': title,\n",
    "            'link': product_link,\n",
    "            'source': source,\n",
    "            'price': price,\n",
    "            'rating': rating,\n",
    "            'reviews': reviews,\n",
    "            'delivery': delivery,\n",
    "        }]\n",
    "    })\n",
    "\n",
    "    shopping_data.append(dict(shopping_results_dict))"
   ]
  },
  {
   "cell_type": "code",
   "execution_count": 62,
   "id": "13c13a7f",
   "metadata": {},
   "outputs": [
    {
     "name": "stdout",
     "output_type": "stream",
     "text": [
      "title;link;price;source\n",
      "Created File successfully\n"
     ]
    }
   ],
   "source": [
    "with open('shopping_result.csv', 'w') as f:\n",
    "    print('title', 'link', 'price', 'source', sep=';')\n",
    "    f.write(f\"title;link;price;source;rating\\n\")\n",
    "    for record in shopping_data:\n",
    "        rec = record['inline_shopping_results'][0]\n",
    "        title = rec['title']\n",
    "        link = rec['link']\n",
    "        price = rec['price']\n",
    "        source = rec['source']\n",
    "        image = rec['image']\n",
    "        f.writelines(f\"{title};{link};{price};{source};{image}\\n\")\n",
    "    print(\"Created File successfully\")"
   ]
  },
  {
   "cell_type": "code",
   "execution_count": null,
   "id": "36184177",
   "metadata": {},
   "outputs": [],
   "source": []
  }
 ],
 "metadata": {
  "kernelspec": {
   "display_name": "Python 3 (ipykernel)",
   "language": "python",
   "name": "python3"
  },
  "language_info": {
   "codemirror_mode": {
    "name": "ipython",
    "version": 3
   },
   "file_extension": ".py",
   "mimetype": "text/x-python",
   "name": "python",
   "nbconvert_exporter": "python",
   "pygments_lexer": "ipython3",
   "version": "3.9.2"
  }
 },
 "nbformat": 4,
 "nbformat_minor": 5
}
